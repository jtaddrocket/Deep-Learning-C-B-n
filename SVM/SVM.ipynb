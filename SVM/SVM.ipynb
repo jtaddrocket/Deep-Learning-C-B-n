{
  "nbformat": 4,
  "nbformat_minor": 0,
  "metadata": {
    "colab": {
      "provenance": [],
      "gpuType": "T4"
    },
    "kernelspec": {
      "name": "python3",
      "display_name": "Python 3"
    },
    "language_info": {
      "name": "python"
    },
    "accelerator": "GPU"
  },
  "cells": [
    {
      "cell_type": "code",
      "execution_count": 4,
      "metadata": {
        "id": "JLoFLhQchrf3"
      },
      "outputs": [],
      "source": [
        "import numpy as np\n",
        "import pandas as pd\n",
        "import tensorflow as tf\n",
        "from tensorflow.keras.datasets import mnist\n",
        "from sklearn.preprocessing import StandardScaler\n",
        "import seaborn as sns\n",
        "import matplotlib.pyplot as plt\n",
        "from sklearn.cluster import KMeans\n",
        "from sklearn.mixture import GaussianMixture\n",
        "from sklearn.svm import SVC\n",
        "import time\n",
        "from sklearn.metrics import accuracy_score\n",
        "from sklearn.metrics import confusion_matrix\n",
        "from sklearn.metrics import precision_score, recall_score"
      ]
    },
    {
      "cell_type": "code",
      "source": [
        "(train_images, train_labels), (test_images, test_labels) = mnist.load_data()\n",
        "print(train_images.shape, train_labels.shape)\n",
        "print(test_images.shape, test_labels.shape)"
      ],
      "metadata": {
        "colab": {
          "base_uri": "https://localhost:8080/"
        },
        "id": "fI4snASkhx-R",
        "outputId": "3cdd550c-e3aa-4b8b-e671-9bd40699a0c2"
      },
      "execution_count": 5,
      "outputs": [
        {
          "output_type": "stream",
          "name": "stdout",
          "text": [
            "(60000, 28, 28) (60000,)\n",
            "(10000, 28, 28) (10000,)\n"
          ]
        }
      ]
    },
    {
      "cell_type": "code",
      "source": [
        "train_images_flat = train_images.reshape(train_images.shape[0], -1)\n",
        "test_images_flat = test_images.reshape(test_images.shape[0], -1)\n",
        "print(train_images_flat.shape, train_labels.shape)\n",
        "print(test_images_flat.shape, test_labels.shape)"
      ],
      "metadata": {
        "colab": {
          "base_uri": "https://localhost:8080/"
        },
        "id": "dTbQzqZRiBOX",
        "outputId": "74a09228-f9b0-4269-b98f-51a24725dcef"
      },
      "execution_count": 6,
      "outputs": [
        {
          "output_type": "stream",
          "name": "stdout",
          "text": [
            "(60000, 784) (60000,)\n",
            "(10000, 784) (10000,)\n"
          ]
        }
      ]
    },
    {
      "cell_type": "code",
      "source": [
        "max_iter = 200"
      ],
      "metadata": {
        "id": "JthfewrpiDLY"
      },
      "execution_count": 7,
      "outputs": []
    },
    {
      "cell_type": "markdown",
      "source": [
        "**Linear Kernel**"
      ],
      "metadata": {
        "id": "49hpkuWuiETR"
      }
    },
    {
      "cell_type": "code",
      "source": [
        "svm_linear_hard = SVC(kernel='linear', C = 1e5, max_iter = max_iter)\n",
        "svm_linear_hard = svm_linear_hard.fit(train_images_flat, train_labels)\n",
        "y_pred_linear_hard = svm_linear_hard.predict(test_images_flat)\n",
        "print(\"Accuracy: \", accuracy_score(test_labels, y_pred_linear_hard))\n",
        "print(\"\\n\\nPrecision:\", precision_score(test_labels, y_pred_linear_hard, average=\"macro\"))\n",
        "print(\"\\n\\nRecall:\", recall_score(test_labels, y_pred_linear_hard, average=\"macro\"))\n",
        "print(\"\\n\\nConfusion Matrix:\\n\",confusion_matrix(test_labels, y_pred_linear_hard))"
      ],
      "metadata": {
        "colab": {
          "base_uri": "https://localhost:8080/"
        },
        "id": "0GMd7QDliG8n",
        "outputId": "f393b9c6-880f-4536-a5bd-d192cd8b1126"
      },
      "execution_count": 8,
      "outputs": [
        {
          "output_type": "stream",
          "name": "stderr",
          "text": [
            "/usr/local/lib/python3.10/dist-packages/sklearn/svm/_base.py:299: ConvergenceWarning: Solver terminated early (max_iter=200).  Consider pre-processing your data with StandardScaler or MinMaxScaler.\n",
            "  warnings.warn(\n"
          ]
        },
        {
          "output_type": "stream",
          "name": "stdout",
          "text": [
            "Accuracy:  0.728\n",
            "\n",
            "\n",
            "Precision: 0.7310662249369089\n",
            "\n",
            "\n",
            "Recall: 0.7291703744438485\n",
            "\n",
            "\n",
            "Confusion Matrix:\n",
            " [[933   0   1   1   1  26  14   1   2   1]\n",
            " [  0 712  67  19   1   2   2   9 319   4]\n",
            " [ 25  63 784  71  21  10  12  14  29   3]\n",
            " [ 10  41  27 775   1  98   0  12  32  14]\n",
            " [  1   2  42   6 861   2  11   5   4  48]\n",
            " [ 21  27  17 136  28 566  30   1  56  10]\n",
            " [ 28   2  55   0  36  24 811   0   2   0]\n",
            " [  4   9  19  19  26   2   0 831   8 110]\n",
            " [ 11  90  60 100  12  66  27   5 592  11]\n",
            " [  8  11  18  24 357  11   1 146  18 415]]\n"
          ]
        }
      ]
    },
    {
      "cell_type": "code",
      "source": [
        "svm_linear_soft = SVC(kernel='linear', C = 10, max_iter = max_iter)\n",
        "svm_linear_soft = svm_linear_soft.fit(train_images_flat, train_labels)\n",
        "y_pred_linear_soft = svm_linear_soft.predict(test_images_flat)\n",
        "print(\"Accuracy: \", accuracy_score(test_labels, y_pred_linear_soft))\n",
        "print(\"\\n\\nPrecision:\", precision_score(test_labels, y_pred_linear_soft, average=\"macro\"))\n",
        "print(\"\\n\\nRecall:\", recall_score(test_labels, y_pred_linear_soft, average=\"macro\"))\n",
        "print(\"\\n\\nConfusion Matrix:\\n\",confusion_matrix(test_labels, y_pred_linear_soft))"
      ],
      "metadata": {
        "colab": {
          "base_uri": "https://localhost:8080/"
        },
        "id": "DeCYZmXiiJgP",
        "outputId": "4f593329-0ecc-4739-87a2-4994932eca7b"
      },
      "execution_count": 9,
      "outputs": [
        {
          "output_type": "stream",
          "name": "stderr",
          "text": [
            "/usr/local/lib/python3.10/dist-packages/sklearn/svm/_base.py:299: ConvergenceWarning: Solver terminated early (max_iter=200).  Consider pre-processing your data with StandardScaler or MinMaxScaler.\n",
            "  warnings.warn(\n"
          ]
        },
        {
          "output_type": "stream",
          "name": "stdout",
          "text": [
            "Accuracy:  0.728\n",
            "\n",
            "\n",
            "Precision: 0.7310662249369089\n",
            "\n",
            "\n",
            "Recall: 0.7291703744438485\n",
            "\n",
            "\n",
            "Confusion Matrix:\n",
            " [[933   0   1   1   1  26  14   1   2   1]\n",
            " [  0 712  67  19   1   2   2   9 319   4]\n",
            " [ 25  63 784  71  21  10  12  14  29   3]\n",
            " [ 10  41  27 775   1  98   0  12  32  14]\n",
            " [  1   2  42   6 861   2  11   5   4  48]\n",
            " [ 21  27  17 136  28 566  30   1  56  10]\n",
            " [ 28   2  55   0  36  24 811   0   2   0]\n",
            " [  4   9  19  19  26   2   0 831   8 110]\n",
            " [ 11  90  60 100  12  66  27   5 592  11]\n",
            " [  8  11  18  24 357  11   1 146  18 415]]\n"
          ]
        }
      ]
    },
    {
      "cell_type": "markdown",
      "source": [
        "**RBF Kernel**"
      ],
      "metadata": {
        "id": "JAELC100iKMV"
      }
    },
    {
      "cell_type": "code",
      "source": [
        "svm_rbf_hard = SVC(kernel='rbf', C = 1e5, max_iter = max_iter)\n",
        "svm_rbf_hard = svm_rbf_hard.fit(train_images_flat, train_labels)\n",
        "y_pred_rbf_hard = svm_rbf_hard.predict(test_images_flat)\n",
        "print(\"Accuracy: \", accuracy_score(test_labels, y_pred_rbf_hard))\n",
        "print(\"\\n\\nPrecision:\", precision_score(test_labels, y_pred_rbf_hard, average=\"macro\"))\n",
        "print(\"\\n\\nRecall:\", recall_score(test_labels, y_pred_rbf_hard, average=\"macro\"))\n",
        "print(\"\\n\\nConfusion Matrix:\\n\",confusion_matrix(test_labels, y_pred_rbf_hard))"
      ],
      "metadata": {
        "colab": {
          "base_uri": "https://localhost:8080/"
        },
        "id": "Dmb4TkW7iMdd",
        "outputId": "5b79aa16-f365-4699-f11f-8f2fc5e939e2"
      },
      "execution_count": 10,
      "outputs": [
        {
          "output_type": "stream",
          "name": "stderr",
          "text": [
            "/usr/local/lib/python3.10/dist-packages/sklearn/svm/_base.py:299: ConvergenceWarning: Solver terminated early (max_iter=200).  Consider pre-processing your data with StandardScaler or MinMaxScaler.\n",
            "  warnings.warn(\n"
          ]
        },
        {
          "output_type": "stream",
          "name": "stdout",
          "text": [
            "Accuracy:  0.9792\n",
            "\n",
            "\n",
            "Precision: 0.9791459925126809\n",
            "\n",
            "\n",
            "Recall: 0.9789224593760977\n",
            "\n",
            "\n",
            "Confusion Matrix:\n",
            " [[ 975    0    1    1    0    1    0    1    1    0]\n",
            " [   0 1131    1    0    0    1    0    1    1    0]\n",
            " [   5    1 1014    0    2    0    1    4    4    1]\n",
            " [   0    0    4  989    0    6    0    3    6    2]\n",
            " [   1    0    3    0  965    0    2    1    1    9]\n",
            " [   2    0    0   16    2  864    3    0    4    1]\n",
            " [   5    2    0    0    2    4  944    0    1    0]\n",
            " [   0    5    8    2    4    0    0  997    0   12]\n",
            " [   3    0    3   12    1    3    2    2  944    4]\n",
            " [   3    4    0    8   13    2    0    3    7  969]]\n"
          ]
        }
      ]
    },
    {
      "cell_type": "code",
      "source": [
        "svm_rbf_soft = SVC(kernel='rbf', C = 10, max_iter = max_iter)\n",
        "svm_rbf_soft = svm_rbf_soft.fit(train_images_flat, train_labels)\n",
        "y_pred_rbf_sof = svm_rbf_soft.predict(test_images_flat)\n",
        "print(\"Accuracy: \", accuracy_score(test_labels, y_pred_rbf_sof))\n",
        "print(\"\\n\\nPrecision:\", precision_score(test_labels, y_pred_rbf_sof, average=\"macro\"))\n",
        "print(\"\\n\\nRecall:\", recall_score(test_labels, y_pred_rbf_sof, average=\"macro\"))\n",
        "print(\"\\n\\nConfusion Matrix:\\n\",confusion_matrix(test_labels, y_pred_rbf_sof))"
      ],
      "metadata": {
        "colab": {
          "base_uri": "https://localhost:8080/"
        },
        "id": "6mwKIBzSiNjX",
        "outputId": "78a4f68e-f692-4ff9-bc22-954e445da89a"
      },
      "execution_count": 11,
      "outputs": [
        {
          "output_type": "stream",
          "name": "stderr",
          "text": [
            "/usr/local/lib/python3.10/dist-packages/sklearn/svm/_base.py:299: ConvergenceWarning: Solver terminated early (max_iter=200).  Consider pre-processing your data with StandardScaler or MinMaxScaler.\n",
            "  warnings.warn(\n"
          ]
        },
        {
          "output_type": "stream",
          "name": "stdout",
          "text": [
            "Accuracy:  0.9789\n",
            "\n",
            "\n",
            "Precision: 0.9788793512255225\n",
            "\n",
            "\n",
            "Recall: 0.9786257770562802\n",
            "\n",
            "\n",
            "Confusion Matrix:\n",
            " [[ 975    0    1    1    0    1    0    1    1    0]\n",
            " [   0 1131    1    0    0    1    0    1    1    0]\n",
            " [   5    1 1014    0    1    0    1    4    5    1]\n",
            " [   0    0    3  991    0    6    0    2    6    2]\n",
            " [   1    0    3    0  963    0    2    0    1   12]\n",
            " [   2    0    0   16    2  863    4    0    4    1]\n",
            " [   4    2    0    0    2    2  947    0    1    0]\n",
            " [   0    4    7    5    1    0    0  999    0   12]\n",
            " [   3    0    3   11    1    3    2    3  946    2]\n",
            " [   4    4    0    9   14    1    0   10    7  960]]\n"
          ]
        }
      ]
    },
    {
      "cell_type": "markdown",
      "source": [
        "**Poly Kernel**"
      ],
      "metadata": {
        "id": "m6uFryb_iPeB"
      }
    },
    {
      "cell_type": "code",
      "source": [
        "svm_poly_hard = SVC(kernel='poly', C = 1e5, max_iter = max_iter)\n",
        "svm_poly_hard = svm_poly_hard.fit(train_images_flat, train_labels)\n",
        "y_pred_poly_hard = svm_poly_hard.predict(test_images_flat)\n",
        "print(\"Accuracy: \", accuracy_score(test_labels, y_pred_poly_hard))\n",
        "print(\"\\n\\nPrecision:\", precision_score(test_labels, y_pred_poly_hard, average=\"macro\"))\n",
        "print(\"\\n\\nRecall:\", recall_score(test_labels, y_pred_poly_hard, average=\"macro\"))\n",
        "print(\"\\n\\nConfusion Matrix:\\n\",confusion_matrix(test_labels, y_pred_poly_hard))"
      ],
      "metadata": {
        "colab": {
          "base_uri": "https://localhost:8080/"
        },
        "id": "n0hmObOTiQy7",
        "outputId": "0cfbaf1e-f71b-4fec-b8cb-8026d6b1cce0"
      },
      "execution_count": 12,
      "outputs": [
        {
          "output_type": "stream",
          "name": "stderr",
          "text": [
            "/usr/local/lib/python3.10/dist-packages/sklearn/svm/_base.py:299: ConvergenceWarning: Solver terminated early (max_iter=200).  Consider pre-processing your data with StandardScaler or MinMaxScaler.\n",
            "  warnings.warn(\n"
          ]
        },
        {
          "output_type": "stream",
          "name": "stdout",
          "text": [
            "Accuracy:  0.9677\n",
            "\n",
            "\n",
            "Precision: 0.9677843117319564\n",
            "\n",
            "\n",
            "Recall: 0.9673329122960623\n",
            "\n",
            "\n",
            "Confusion Matrix:\n",
            " [[ 973    0    1    1    0    2    1    0    2    0]\n",
            " [   0 1127    3    1    0    0    3    1    0    0]\n",
            " [   8    2 1002    0    2    0    3    9    6    0]\n",
            " [   0    2    6  978    0   11    0    4    7    2]\n",
            " [   3    0    5    0  961    0    2    1    0   10]\n",
            " [   6    0    1   25    1  849    4    1    2    3]\n",
            " [   4    5    2    0    2    9  935    0    1    0]\n",
            " [   0   17   10    3    3    0    0  980    0   15]\n",
            " [   8    0    3   13    2    5    1    5  934    3]\n",
            " [   9    5    3    9   26    3    0   13    3  938]]\n"
          ]
        }
      ]
    },
    {
      "cell_type": "code",
      "source": [
        "svm_poly_soft = SVC(kernel='poly', C = 10, max_iter = max_iter)\n",
        "svm_poly_soft = svm_poly_soft.fit(train_images_flat, train_labels)\n",
        "y_pred_poly_sof = svm_poly_soft.predict(test_images_flat)\n",
        "print(\"Accuracy: \", accuracy_score(test_labels, y_pred_poly_sof))\n",
        "print(\"\\n\\nPrecision:\", precision_score(test_labels, y_pred_poly_sof, average=\"macro\"))\n",
        "print(\"\\n\\nRecall:\", recall_score(test_labels, y_pred_poly_sof, average=\"macro\"))\n",
        "print(\"\\n\\nConfusion Matrix:\\n\",confusion_matrix(test_labels, y_pred_poly_sof))"
      ],
      "metadata": {
        "colab": {
          "base_uri": "https://localhost:8080/"
        },
        "id": "GkyMRV3kiRyk",
        "outputId": "f961575b-c9a1-4d59-cd6f-abdb5a986919"
      },
      "execution_count": 13,
      "outputs": [
        {
          "output_type": "stream",
          "name": "stderr",
          "text": [
            "/usr/local/lib/python3.10/dist-packages/sklearn/svm/_base.py:299: ConvergenceWarning: Solver terminated early (max_iter=200).  Consider pre-processing your data with StandardScaler or MinMaxScaler.\n",
            "  warnings.warn(\n"
          ]
        },
        {
          "output_type": "stream",
          "name": "stdout",
          "text": [
            "Accuracy:  0.9695\n",
            "\n",
            "\n",
            "Precision: 0.9693818267718057\n",
            "\n",
            "\n",
            "Recall: 0.9691678692879859\n",
            "\n",
            "\n",
            "Confusion Matrix:\n",
            " [[ 972    0    1    1    0    3    1    0    2    0]\n",
            " [   0 1126    3    0    0    0    4    0    2    0]\n",
            " [   8    3  998    2    2    0    4    8    6    1]\n",
            " [   1    1    7  977    0    8    0    5    8    3]\n",
            " [   2    0    2    0  955    0    2    1    0   20]\n",
            " [   2    0    2   22    1  855    4    1    3    2]\n",
            " [   4    4    1    0    1    8  939    0    1    0]\n",
            " [   0    8   12    2    3    0    0  993    0   10]\n",
            " [  10    0    4   14    2    7    1    5  927    4]\n",
            " [   7    4    2    6   27    3    0    3    4  953]]\n"
          ]
        }
      ]
    },
    {
      "cell_type": "markdown",
      "source": [
        "**Sigmoid Kernel**"
      ],
      "metadata": {
        "id": "l2pLiuK5iTCl"
      }
    },
    {
      "cell_type": "code",
      "source": [
        "svm_sigmoid_hard = SVC(kernel='sigmoid', C = 1e5, max_iter = max_iter)\n",
        "svm_sigmoid_hard = svm_sigmoid_hard.fit(train_images_flat, train_labels)\n",
        "y_pred_sigmoid_hard = svm_sigmoid_hard.predict(test_images_flat)\n",
        "print(\"Accuracy: \", accuracy_score(test_labels, y_pred_sigmoid_hard))\n",
        "print(\"\\n\\nPrecision:\", precision_score(test_labels, y_pred_sigmoid_hard, average=\"macro\"))\n",
        "print(\"\\n\\nRecall:\", recall_score(test_labels, y_pred_sigmoid_hard, average=\"macro\"))\n",
        "print(\"\\n\\nConfusion Matrix:\\n\",confusion_matrix(test_labels, y_pred_sigmoid_hard))"
      ],
      "metadata": {
        "colab": {
          "base_uri": "https://localhost:8080/"
        },
        "id": "dmuMPjJWiU1c",
        "outputId": "fc6e4870-b22d-4846-8fd8-2973731de411"
      },
      "execution_count": 14,
      "outputs": [
        {
          "output_type": "stream",
          "name": "stderr",
          "text": [
            "/usr/local/lib/python3.10/dist-packages/sklearn/svm/_base.py:299: ConvergenceWarning: Solver terminated early (max_iter=200).  Consider pre-processing your data with StandardScaler or MinMaxScaler.\n",
            "  warnings.warn(\n"
          ]
        },
        {
          "output_type": "stream",
          "name": "stdout",
          "text": [
            "Accuracy:  0.5602\n",
            "\n",
            "\n",
            "Precision: 0.6232899609826216\n",
            "\n",
            "\n",
            "Recall: 0.5558774184537899\n",
            "\n",
            "\n",
            "Confusion Matrix:\n",
            " [[ 762    0   10    2    1   27   63    0  107    8]\n",
            " [   1 1017   32   16    0    2    4    0   61    2]\n",
            " [  46   81  218   44   13    5  175   12  405   33]\n",
            " [  54   22   17  436    1  146   16   15  253   50]\n",
            " [   2    4   11    4  295    1   29    5   38  593]\n",
            " [  85   24    7   77   15  300   29    8  295   52]\n",
            " [  31    7   67   10   24    9  768    0   37    5]\n",
            " [   5   15   27    8    3    0    1  359   47  563]\n",
            " [  49   64   37   48    7   44   23    8  577  117]\n",
            " [  16    6    5    4   31   11    0   31   35  870]]\n"
          ]
        }
      ]
    },
    {
      "cell_type": "code",
      "source": [
        "svm_sigmoid_soft = SVC(kernel='sigmoid', C = 10, max_iter = max_iter)\n",
        "svm_sigmoid_soft = svm_sigmoid_soft.fit(train_images_flat, train_labels)\n",
        "y_pred_sigmoid_sof = svm_sigmoid_soft.predict(test_images_flat)\n",
        "print(\"Accuracy: \", accuracy_score(test_labels, y_pred_sigmoid_sof))\n",
        "print(\"\\n\\nPrecision:\", precision_score(test_labels, y_pred_sigmoid_sof, average=\"macro\"))\n",
        "print(\"\\n\\nRecall:\", recall_score(test_labels, y_pred_sigmoid_sof, average=\"macro\"))\n",
        "print(\"\\n\\nConfusion Matrix:\\n\",confusion_matrix(test_labels, y_pred_sigmoid_sof))"
      ],
      "metadata": {
        "colab": {
          "base_uri": "https://localhost:8080/"
        },
        "id": "8Kp0f5IsiV1A",
        "outputId": "0334fb7f-2d18-460e-d921-ec7a5cf63865"
      },
      "execution_count": 15,
      "outputs": [
        {
          "output_type": "stream",
          "name": "stderr",
          "text": [
            "/usr/local/lib/python3.10/dist-packages/sklearn/svm/_base.py:299: ConvergenceWarning: Solver terminated early (max_iter=200).  Consider pre-processing your data with StandardScaler or MinMaxScaler.\n",
            "  warnings.warn(\n"
          ]
        },
        {
          "output_type": "stream",
          "name": "stdout",
          "text": [
            "Accuracy:  0.5858\n",
            "\n",
            "\n",
            "Precision: 0.6529153063942926\n",
            "\n",
            "\n",
            "Recall: 0.5831176376537107\n",
            "\n",
            "\n",
            "Confusion Matrix:\n",
            " [[681   0   7   1   1  76  65   1 139   9]\n",
            " [  0 997  35   0   0   2   5   0  96   0]\n",
            " [ 38  73 407   3  41  13 140   7 295  15]\n",
            " [ 52  15  23  84   5 220  22  18 547  24]\n",
            " [  1   5   6   0 717   8  16   7  17 205]\n",
            " [ 56  23   8  14  33 352  30   7 322  47]\n",
            " [ 25   5  58   1  46  17 778   0  26   2]\n",
            " [  5  15  41   3  33   2   1 387  59 482]\n",
            " [ 51  37  29   2  27  36  29   6 701  56]\n",
            " [ 15   6   2   0 137  11   1  28  55 754]]\n"
          ]
        }
      ]
    }
  ]
}