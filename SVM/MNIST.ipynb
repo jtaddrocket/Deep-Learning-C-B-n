{
 "cells": [
  {
   "cell_type": "code",
   "execution_count": 1,
   "metadata": {},
   "outputs": [],
   "source": [
    "import numpy as np\n",
    "from sklearn.model_selection import train_test_split\n",
    "from sklearn.preprocessing import StandardScaler\n",
    "from sklearn.svm import SVC\n",
    "from sklearn.metrics import accuracy_score, precision_score, recall_score\n",
    "\n",
    "import tensorflow as tf"
   ]
  },
  {
   "cell_type": "code",
   "execution_count": 2,
   "metadata": {},
   "outputs": [],
   "source": [
    "# Tải bộ dữ liệu MNIST từ TensorFlow\n",
    "mnist = tf.keras.datasets.mnist\n",
    "(X_train, y_train), (X_test, y_test) = mnist.load_data()\n",
    "\n",
    "# Chuyển đổi hình ảnh thành vector một chiều (flattening)\n",
    "X_train = X_train.reshape((X_train.shape[0], -1))\n",
    "X_test = X_test.reshape((X_test.shape[0], -1))\n",
    "\n",
    "# Chuẩn hóa dữ liệu để giá trị pixel nằm trong khoảng 0-1\n",
    "X_train = X_train / 255.0\n",
    "X_test = X_test / 255.0\n",
    "\n",
    "# Chuẩn hóa dữ liệu sử dụng StandardScaler để có trung bình 0 và độ lệch chuẩn 1\n",
    "scaler = StandardScaler()\n",
    "X_train_scaled = scaler.fit_transform(X_train)\n",
    "X_test_scaled = scaler.transform(X_test)\n"
   ]
  },
  {
   "cell_type": "code",
   "execution_count": 3,
   "metadata": {},
   "outputs": [],
   "source": [
    "# Định nghĩa mô hình SVM với Soft Margin\n",
    "svm_soft = SVC(C=10, kernel='linear', gamma='scale')  # C=10 cho Soft Margin\n",
    "\n",
    "# Định nghĩa mô hình SVM với Hard Margin\n",
    "svm_hard = SVC(C=1e5, kernel='linear', gamma='scale')  # C=10^5 cho Hard Margin\n",
    "\n",
    "# Huấn luyện mô hình trên tập huấn luyện\n",
    "svm_soft.fit(X_train_scaled, y_train)\n",
    "svm_hard.fit(X_train_scaled, y_train)\n"
   ]
  },
  {
   "cell_type": "code",
   "execution_count": null,
   "metadata": {},
   "outputs": [],
   "source": [
    "# Đánh giá mô hình trên tập kiểm tra\n",
    "y_pred_soft = svm_soft.predict(X_test_scaled)\n",
    "y_pred_hard = svm_hard.predict(X_test_scaled)\n",
    "\n",
    "# Tính toán Accuracy, Precision, và Recall\n",
    "accuracy_soft = accuracy_score(y_test, y_pred_soft)\n",
    "precision_soft = precision_score(y_test, y_pred_soft, average='macro')\n",
    "recall_soft = recall_score(y_test, y_pred_soft, average='macro')\n",
    "\n",
    "accuracy_hard = accuracy_score(y_test, y_pred_hard)\n",
    "precision_hard = precision_score(y_test, y_pred_hard, average='macro')\n",
    "recall_hard = recall_score(y_test, y_pred_hard, average='macro')\n",
    "\n",
    "print(f\"Soft Margin SVM -> Accuracy: {accuracy_soft}, Precision: {precision_soft}, Recall: {recall_soft}\")\n",
    "print(f\"Hard Margin SVM -> Accuracy: {accuracy_hard}, Precision: {precision_hard}, Recall: {recall_hard}\")\n"
   ]
  }
 ],
 "metadata": {
  "kernelspec": {
   "display_name": "Python 3",
   "language": "python",
   "name": "python3"
  },
  "language_info": {
   "codemirror_mode": {
    "name": "ipython",
    "version": 3
   },
   "file_extension": ".py",
   "mimetype": "text/x-python",
   "name": "python",
   "nbconvert_exporter": "python",
   "pygments_lexer": "ipython3",
   "version": "3.12.2"
  }
 },
 "nbformat": 4,
 "nbformat_minor": 2
}
