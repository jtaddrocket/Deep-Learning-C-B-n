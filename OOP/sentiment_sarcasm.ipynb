{
  "nbformat": 4,
  "nbformat_minor": 0,
  "metadata": {
    "colab": {
      "provenance": [],
      "gpuType": "T4"
    },
    "kernelspec": {
      "name": "python3",
      "display_name": "Python 3"
    },
    "language_info": {
      "name": "python"
    },
    "accelerator": "GPU"
  },
  "cells": [
    {
      "cell_type": "code",
      "source": [
        "cd /content/sentiment_sarcasm"
      ],
      "metadata": {
        "colab": {
          "base_uri": "https://localhost:8080/"
        },
        "id": "EubjYrM-KyiL",
        "outputId": "c6f92f80-90f9-4a75-fc70-c323ff642a1a"
      },
      "execution_count": 1,
      "outputs": [
        {
          "output_type": "stream",
          "name": "stdout",
          "text": [
            "/content/sentiment_sarcasm\n"
          ]
        }
      ]
    },
    {
      "cell_type": "code",
      "source": [
        "!python train.py --batch-size 64 --epochs 20 --units 256"
      ],
      "metadata": {
        "colab": {
          "base_uri": "https://localhost:8080/"
        },
        "id": "3j9PBHi4K1Ck",
        "outputId": "b80ae7d8-d7a9-4a55-f2c8-269ecf446534"
      },
      "execution_count": 2,
      "outputs": [
        {
          "output_type": "stream",
          "name": "stdout",
          "text": [
            "2024-07-01 13:27:15.402260: E external/local_xla/xla/stream_executor/cuda/cuda_dnn.cc:9261] Unable to register cuDNN factory: Attempting to register factory for plugin cuDNN when one has already been registered\n",
            "2024-07-01 13:27:15.402320: E external/local_xla/xla/stream_executor/cuda/cuda_fft.cc:607] Unable to register cuFFT factory: Attempting to register factory for plugin cuFFT when one has already been registered\n",
            "2024-07-01 13:27:15.404085: E external/local_xla/xla/stream_executor/cuda/cuda_blas.cc:1515] Unable to register cuBLAS factory: Attempting to register factory for plugin cuBLAS when one has already been registered\n",
            "2024-07-01 13:27:15.415066: I tensorflow/core/platform/cpu_feature_guard.cc:182] This TensorFlow binary is optimized to use available CPU instructions in performance-critical operations.\n",
            "To enable the following instructions: AVX2 FMA, in other operations, rebuild TensorFlow with the appropriate compiler flags.\n",
            "2024-07-01 13:27:16.705245: W tensorflow/compiler/tf2tensorrt/utils/py_utils.cc:38] TF-TRT Warning: Could not find TensorRT\n",
            "Step 1: Loading data...\n",
            "Data downloaded!\n",
            "Step 2: Training...\n",
            "Epoch 1/20\n",
            "334/334 [==============================] - 143s 387ms/step - loss: 0.6923 - acc: 0.5593 - val_loss: 0.6917 - val_acc: 0.5678\n",
            "Epoch 2/20\n",
            "334/334 [==============================] - 124s 372ms/step - loss: 0.6915 - acc: 0.5593 - val_loss: 0.6908 - val_acc: 0.5680\n",
            "Epoch 3/20\n",
            "334/334 [==============================] - 138s 413ms/step - loss: 0.6908 - acc: 0.5593 - val_loss: 0.6900 - val_acc: 0.5680\n",
            "Epoch 4/20\n",
            "334/334 [==============================] - 123s 370ms/step - loss: 0.6901 - acc: 0.5593 - val_loss: 0.6892 - val_acc: 0.5680\n",
            "Epoch 5/20\n",
            "334/334 [==============================] - 127s 379ms/step - loss: 0.6895 - acc: 0.5593 - val_loss: 0.6885 - val_acc: 0.5680\n",
            "Epoch 6/20\n",
            "334/334 [==============================] - 125s 375ms/step - loss: 0.6889 - acc: 0.5593 - val_loss: 0.6878 - val_acc: 0.5680\n",
            "Epoch 7/20\n",
            "334/334 [==============================] - 124s 372ms/step - loss: 0.6884 - acc: 0.5593 - val_loss: 0.6872 - val_acc: 0.5680\n",
            "Epoch 8/20\n",
            "334/334 [==============================] - 123s 368ms/step - loss: 0.6879 - acc: 0.5593 - val_loss: 0.6866 - val_acc: 0.5680\n",
            "Epoch 9/20\n",
            "334/334 [==============================] - 120s 358ms/step - loss: 0.6875 - acc: 0.5593 - val_loss: 0.6861 - val_acc: 0.5680\n",
            "Epoch 10/20\n",
            "334/334 [==============================] - 123s 367ms/step - loss: 0.6871 - acc: 0.5593 - val_loss: 0.6857 - val_acc: 0.5680\n",
            "Epoch 11/20\n",
            "334/334 [==============================] - 122s 365ms/step - loss: 0.6868 - acc: 0.5593 - val_loss: 0.6853 - val_acc: 0.5680\n",
            "Epoch 12/20\n",
            "334/334 [==============================] - 125s 374ms/step - loss: 0.6866 - acc: 0.5593 - val_loss: 0.6850 - val_acc: 0.5680\n",
            "Epoch 13/20\n",
            "334/334 [==============================] - 122s 367ms/step - loss: 0.6864 - acc: 0.5593 - val_loss: 0.6848 - val_acc: 0.5680\n",
            "Epoch 14/20\n",
            "334/334 [==============================] - 124s 370ms/step - loss: 0.6863 - acc: 0.5593 - val_loss: 0.6846 - val_acc: 0.5680\n",
            "Epoch 15/20\n",
            "334/334 [==============================] - 120s 358ms/step - loss: 0.6861 - acc: 0.5593 - val_loss: 0.6844 - val_acc: 0.5680\n",
            "Epoch 16/20\n",
            "334/334 [==============================] - 123s 369ms/step - loss: 0.6861 - acc: 0.5593 - val_loss: 0.6843 - val_acc: 0.5680\n",
            "Epoch 17/20\n",
            "334/334 [==============================] - 123s 369ms/step - loss: 0.6860 - acc: 0.5593 - val_loss: 0.6842 - val_acc: 0.5680\n",
            "Epoch 18/20\n",
            "334/334 [==============================] - 121s 363ms/step - loss: 0.6859 - acc: 0.5593 - val_loss: 0.6841 - val_acc: 0.5680\n",
            "Epoch 19/20\n",
            "334/334 [==============================] - 123s 369ms/step - loss: 0.6859 - acc: 0.5593 - val_loss: 0.6840 - val_acc: 0.5680\n",
            "Epoch 20/20\n",
            "334/334 [==============================] - 120s 360ms/step - loss: 0.6859 - acc: 0.5593 - val_loss: 0.6840 - val_acc: 0.5680\n"
          ]
        }
      ]
    }
  ]
}