{
 "cells": [
  {
   "cell_type": "code",
   "execution_count": 8,
   "metadata": {},
   "outputs": [],
   "source": [
    "from __future__ import print_function\n",
    "from sklearn.naive_bayes import MultinomialNB\n",
    "from sklearn.naive_bayes import BernoulliNB\n",
    "import numpy as np"
   ]
  },
  {
   "cell_type": "markdown",
   "metadata": {},
   "source": [
    "**Chạy theo phương pháp Multinomial Naïve Bayes:**"
   ]
  },
  {
   "cell_type": "code",
   "execution_count": 9,
   "metadata": {},
   "outputs": [
    {
     "name": "stdout",
     "output_type": "stream",
     "text": [
      "Predicting class of d5: C\n",
      "Probability of d5 in each class: [[0.75 0.25]]\n"
     ]
    }
   ],
   "source": [
    "# train data \n",
    "d1 = [1,0,0,1,0,1,0,0]\n",
    "d2 = [1,0,0,0,1,0,1,0]\n",
    "d3 = [0,1,0,1,0,1,0,0]\n",
    "d4 = [0,0,1,0,1,1,0,0]\n",
    "d5 = [1,0,0,0,1,0,0,1]\n",
    "d6 = [0,1,0,0,1,0,0,1]\n",
    "d7 = [0,0,1,1,0,1,0,0]\n",
    "d8 = [0,1,0,1,0,1,0,0]\n",
    "d9 = [1,0,0,0,1,0,0,1]\n",
    "d10 = [0,0,1,1,0,0,1,0]\n",
    "\n",
    "train_data = np.array([d1, d2, d3, d4, d5, d6, d7, d8, d9, d10])\n",
    "label = np.array(['K','K','C','C','K','K','C','K','C','C'])\n",
    "\n",
    "#test data\n",
    "d11 = np.array([[0,0,1,0,1,0,1,0]]) \n",
    "\n",
    "## call MultinomialNB\n",
    "clf = MultinomialNB()\n",
    "# training\n",
    "clf.fit(train_data, label)\n",
    "\n",
    "# test\n",
    "print('Predicting class of d5:', str(clf.predict(d11)[0]))\n",
    "print('Probability of d5 in each class:', clf.predict_proba(d11))"
   ]
  },
  {
   "cell_type": "markdown",
   "metadata": {},
   "source": [
    "**Chạy theo phương pháp Bernoulli Naïve Bayes:**"
   ]
  },
  {
   "cell_type": "code",
   "execution_count": 10,
   "metadata": {},
   "outputs": [
    {
     "name": "stdout",
     "output_type": "stream",
     "text": [
      "Predicting class of d5: C\n",
      "Probability of d5 in each class: [[0.81462708 0.18537292]]\n"
     ]
    }
   ],
   "source": [
    "# train data \n",
    "d1 = [1,0,0,1,0,1,0,0]\n",
    "d2 = [1,0,0,0,1,0,1,0]\n",
    "d3 = [0,1,0,1,0,1,0,0]\n",
    "d4 = [0,0,1,0,1,1,0,0]\n",
    "d5 = [1,0,0,0,1,0,0,1]\n",
    "d6 = [0,1,0,0,1,0,0,1]\n",
    "d7 = [0,0,1,1,0,1,0,0]\n",
    "d8 = [0,1,0,1,0,1,0,0]\n",
    "d9 = [1,0,0,0,1,0,0,1]\n",
    "d10 = [0,0,1,1,0,0,1,0]\n",
    "\n",
    "train_data = np.array([d1, d2, d3, d4, d5, d6, d7, d8, d9, d10])\n",
    "label = np.array(['K','K','C','C','K','K','C','K','C','C'])\n",
    "\n",
    "#test data\n",
    "d11 = np.array([[0,0,1,0,1,0,1,0]]) \n",
    "\n",
    "## call MultinomialNB\n",
    "clf = BernoulliNB()\n",
    "# training\n",
    "clf.fit(train_data, label)\n",
    "\n",
    "# test\n",
    "print('Predicting class of d5:', str(clf.predict(d11)[0]))\n",
    "print('Probability of d5 in each class:', clf.predict_proba(d11))"
   ]
  },
  {
   "cell_type": "code",
   "execution_count": 14,
   "metadata": {},
   "outputs": [
    {
     "name": "stdout",
     "output_type": "stream",
     "text": [
      "[2 3 4]\n"
     ]
    }
   ],
   "source": [
    "import numpy as np\n",
    "data = np.array ([1,2, 3, -2, 4])\n",
    "condition = (data>1)\n",
    "arr=data[condition]\n",
    "print(arr)"
   ]
  }
 ],
 "metadata": {
  "kernelspec": {
   "display_name": "Python 3",
   "language": "python",
   "name": "python3"
  },
  "language_info": {
   "codemirror_mode": {
    "name": "ipython",
    "version": 3
   },
   "file_extension": ".py",
   "mimetype": "text/x-python",
   "name": "python",
   "nbconvert_exporter": "python",
   "pygments_lexer": "ipython3",
   "version": "3.12.2"
  }
 },
 "nbformat": 4,
 "nbformat_minor": 2
}
